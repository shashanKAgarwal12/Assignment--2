{
 "cells": [
  {
   "cell_type": "markdown",
   "id": "2713111f-5215-4479-923c-7ed72bf2ce7f",
   "metadata": {},
   "source": [
    "# Answer N01\n",
    "\n",
    "## In python we can comment by using the \"##\" symbol we can use single # also for comment \n",
    "## there are two types of comment is listed in python \n",
    "#  1 single line comment \n",
    "# 2 multipal line comment \n",
    "## The single line comment is denoted by \"##\" symbol.\n",
    "## The multipal line comment is denoted by \"\"\"example of multipal line comment\"\"\". "
   ]
  },
  {
   "cell_type": "markdown",
   "id": "afc5f0eb-7a2a-4588-abf2-1fb882baee60",
   "metadata": {
    "tags": []
   },
   "source": [
    "# Answer No2.\n",
    "\n",
    "The variables are those who stores the value or data that we entered \n",
    "We can declared and assign the values to the variable like as follow:\\\n",
    "a = 20\n",
    "\n",
    "Here the \"a\" is the name of the variable and the \"20\" is the value of the variable. We declare the variable as \"a\"\n",
    "and assign \"20\" as value of \"a\". We use the assignment oprator to assign the value the symbol of assignment operator \n",
    "is \"=\"\n",
    "\n"
   ]
  },
  {
   "cell_type": "markdown",
   "id": "d77eb340-95fb-4f00-a7e8-4140a5ad2821",
   "metadata": {},
   "source": [
    "# Answer No3.\n",
    "\n",
    "We can convert the one data type into another data type in python by doing the type casting.\n",
    "Example \n"
   ]
  },
  {
   "cell_type": "code",
   "execution_count": 1,
   "id": "e50120ab-65b7-45c4-9cf3-4a4603ece264",
   "metadata": {},
   "outputs": [
    {
     "data": {
      "text/plain": [
       "'4'"
      ]
     },
     "execution_count": 1,
     "metadata": {},
     "output_type": "execute_result"
    }
   ],
   "source": [
    "l=[1,2,3,4,\"shashank\",True]\n",
    "str(l[3])\n"
   ]
  },
  {
   "cell_type": "markdown",
   "id": "f1c3455d-08e6-4770-8b52-c933ce85302d",
   "metadata": {},
   "source": [
    "# Answer No5."
   ]
  },
  {
   "cell_type": "code",
   "execution_count": 3,
   "id": "ac4d05d2-35d7-49d5-b804-cca999ec84a3",
   "metadata": {},
   "outputs": [
    {
     "data": {
      "text/plain": [
       "[2, 3]"
      ]
     },
     "execution_count": 3,
     "metadata": {},
     "output_type": "execute_result"
    }
   ],
   "source": [
    "my_list = [1, 2, 3, 4, 5]\n",
    "my_list[1:3]"
   ]
  },
  {
   "cell_type": "markdown",
   "id": "b3a46325-a3f9-4670-93eb-dac5dc93b254",
   "metadata": {},
   "source": [
    "# Answer No6.\n",
    "\n",
    "# The complex number are those number that consist the real part and the imagimary part.\n",
    "# In mathematics it is represented like 5+6i but in python it is represented like 5+6j, i is change into j \n",
    "# In below example the \"5\" is the real number and the \"6j\" is the imaginary number"
   ]
  },
  {
   "cell_type": "code",
   "execution_count": 4,
   "id": "ea71cacb-23fd-4492-8543-58c0424d5487",
   "metadata": {},
   "outputs": [
    {
     "data": {
      "text/plain": [
       "complex"
      ]
     },
     "execution_count": 4,
     "metadata": {},
     "output_type": "execute_result"
    }
   ],
   "source": [
    "a = 5+6j\n",
    "type(a)"
   ]
  },
  {
   "cell_type": "markdown",
   "id": "c826621c-372f-4b57-b430-0f9414b1fb57",
   "metadata": {},
   "source": [
    "# Answer No7.\n",
    "\n",
    "# The correct way to declare a variable is at first declare the name of the variable after that assign the value into it.\n",
    "# In below example the \"age\" is the name of variable and the 25 is the value of the variable or value of the age. "
   ]
  },
  {
   "cell_type": "code",
   "execution_count": 5,
   "id": "e28ede98-590b-408c-9389-f6adb9a26330",
   "metadata": {},
   "outputs": [
    {
     "data": {
      "text/plain": [
       "25"
      ]
     },
     "execution_count": 5,
     "metadata": {},
     "output_type": "execute_result"
    }
   ],
   "source": [
    "age = 25\n",
    "age"
   ]
  },
  {
   "cell_type": "markdown",
   "id": "39e08489-7a3f-430a-9974-c028c4879b76",
   "metadata": {},
   "source": [
    "# Answer No8.\n",
    "\n"
   ]
  },
  {
   "cell_type": "code",
   "execution_count": 6,
   "id": "c6158a39-82c0-432c-94e6-81150f3179e7",
   "metadata": {},
   "outputs": [
    {
     "data": {
      "text/plain": [
       "float"
      ]
     },
     "execution_count": 6,
     "metadata": {},
     "output_type": "execute_result"
    }
   ],
   "source": [
    "price = 9.99\n",
    "type(price)"
   ]
  },
  {
   "cell_type": "markdown",
   "id": "4b335d8a-7513-4082-802e-52aa4da05787",
   "metadata": {},
   "source": [
    "# Answer No9."
   ]
  },
  {
   "cell_type": "code",
   "execution_count": 7,
   "id": "e2226fbc-1bea-4e56-bdbd-6a5dd42eafe2",
   "metadata": {},
   "outputs": [
    {
     "name": "stdout",
     "output_type": "stream",
     "text": [
      "Shashank Agarwal\n"
     ]
    }
   ],
   "source": [
    "name = \"Shashank Agarwal\"\n",
    "print(name)"
   ]
  },
  {
   "cell_type": "markdown",
   "id": "4e1411ae-7541-455b-8199-819e3a5e87ca",
   "metadata": {},
   "source": [
    "# Answer No10."
   ]
  },
  {
   "cell_type": "code",
   "execution_count": 8,
   "id": "f641cede-af17-4894-82df-b14e2daeb37c",
   "metadata": {},
   "outputs": [
    {
     "name": "stdout",
     "output_type": "stream",
     "text": [
      "World!\n"
     ]
    }
   ],
   "source": [
    "s = \"Hello World!\"\n",
    "sb = s[6: ]\n",
    "print(sb)"
   ]
  },
  {
   "cell_type": "markdown",
   "id": "911d3b1c-e500-4c3f-aaf2-562ce7b47da7",
   "metadata": {},
   "source": [
    "#Answer No11."
   ]
  },
  {
   "cell_type": "code",
   "execution_count": null,
   "id": "11ffd8de-6ac2-4f2e-b09c-86ad7551e612",
   "metadata": {},
   "outputs": [],
   "source": [
    "is_student = True \n",
    "#You are currently a student\n",
    "or\n",
    "is_student = False \n",
    "#You are not currently a student"
   ]
  }
 ],
 "metadata": {
  "kernelspec": {
   "display_name": "Python 3 (ipykernel)",
   "language": "python",
   "name": "python3"
  },
  "language_info": {
   "codemirror_mode": {
    "name": "ipython",
    "version": 3
   },
   "file_extension": ".py",
   "mimetype": "text/x-python",
   "name": "python",
   "nbconvert_exporter": "python",
   "pygments_lexer": "ipython3",
   "version": "3.10.8"
  }
 },
 "nbformat": 4,
 "nbformat_minor": 5
}
